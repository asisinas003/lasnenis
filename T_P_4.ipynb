{
  "nbformat": 4,
  "nbformat_minor": 0,
  "metadata": {
    "colab": {
      "name": "T.P 4.ipynb",
      "provenance": [],
      "authorship_tag": "ABX9TyOVkubQOUhD1H9dFswCbTXL",
      "include_colab_link": true
    },
    "kernelspec": {
      "name": "python3",
      "display_name": "Python 3"
    },
    "language_info": {
      "name": "python"
    }
  },
  "cells": [
    {
      "cell_type": "markdown",
      "metadata": {
        "id": "view-in-github",
        "colab_type": "text"
      },
      "source": [
        "<a href=\"https://colab.research.google.com/github/asisinas003/lasnenis/blob/main/T_P_4.ipynb\" target=\"_parent\"><img src=\"https://colab.research.google.com/assets/colab-badge.svg\" alt=\"Open In Colab\"/></a>"
      ]
    },
    {
      "cell_type": "code",
      "execution_count": null,
      "metadata": {
        "id": "fV2fXkSqfO8N"
      },
      "outputs": [],
      "source": [
        ""
      ]
    },
    {
      "cell_type": "markdown",
      "source": [
        "#Ejercicio 1\n",
        "Haz que un usuario introduzca un numeros entero por teclado. Mientras el usuario no introduzca el 0, muestra si el numero introducidoes par o impar."
      ],
      "metadata": {
        "id": "g1-KZau9f8m0"
      }
    },
    {
      "cell_type": "code",
      "source": [
        ""
      ],
      "metadata": {
        "id": "9rGj-OOEgj7F"
      },
      "execution_count": null,
      "outputs": []
    },
    {
      "cell_type": "markdown",
      "source": [
        ""
      ],
      "metadata": {
        "id": "xKL4W5YlhhCz"
      }
    },
    {
      "cell_type": "markdown",
      "source": [
        "#Ejercicio 2\n",
        "Haz que un usuario introduzca una palabra y una letra por teclado. Comprueba si la pallabra contiene la letra o no indicaselo al usuario por pantalla"
      ],
      "metadata": {
        "id": "0XiVDW4Dhkgr"
      }
    },
    {
      "cell_type": "code",
      "source": [
        "palabra = input(\"introduce una palabra: \").lower()\n",
        "\n",
        "letra = input(\"introduce una letra \")\n",
        "contador = 0\n",
        "for i in palabra:\n",
        "    if i == letra:\n",
        "        contador += 1\n",
        "print(\"la letra '%s' aparece %2i veces en la palabra '%s'.\" % (letra, contador,palabra))"
      ],
      "metadata": {
        "colab": {
          "base_uri": "https://localhost:8080/"
        },
        "id": "N9rhFaRWiJpA",
        "outputId": "72e740ed-edf8-4b39-ac02-2bb7efd5e65f"
      },
      "execution_count": 5,
      "outputs": [
        {
          "output_type": "stream",
          "name": "stdout",
          "text": [
            "introduce una palabra: Argentina\n",
            "introduce una letra a\n",
            "la letra 'a' aparece  2 veces en la palabra 'argentina'.\n"
          ]
        }
      ]
    },
    {
      "cell_type": "markdown",
      "source": [
        "#ejercicio 4\n",
        "Haz que el usuario introduzca numeros enteros por teclado. Mientras el usuario no introduzca el 0, calcula cuantos numeros positivos y cuantos negativos ha introducido y muestraselo al final"
      ],
      "metadata": {
        "id": "sBPpgkMziKo8"
      }
    },
    {
      "cell_type": "code",
      "source": [
        "n = int(input(\"ingrese la cantidad de datos que desea procesar: \"))\n",
        "\n",
        "if n > 0:\n",
        "\n",
        "    positivos = 0\n",
        "    negativos = 0\n",
        "    \n",
        "\n",
        "    for i in range(n):\n",
        "        dato = int(input(\"ingrese un numero entero: \"))\n",
        "\n",
        "        if dato > 0:\n",
        "           positivos += 1\n",
        "\n",
        "        else:\n",
        "            negativos += 1\n",
        "\n",
        "       \n",
        "    print(\"La cantidad de numero positivos fue:\",positivos,\"\\nLa cantidad de numero negativos fue:\",negativos)\n",
        "\n",
        "else:\n",
        "  print(\"El numero ingresado no es correcto. Intentelo nuevamente.\")\n",
        "\n"
      ],
      "metadata": {
        "colab": {
          "base_uri": "https://localhost:8080/"
        },
        "id": "0y-IAL_9i97Y",
        "outputId": "d4f64f6f-ce8a-4432-dea2-a28cf6ae7b2d"
      },
      "execution_count": 23,
      "outputs": [
        {
          "output_type": "stream",
          "name": "stdout",
          "text": [
            "ingrese la cantidad de datos que desea procesar: 5\n",
            "ingrese un numero entero: 1\n",
            "ingrese un numero entero: 2\n",
            "ingrese un numero entero: -5\n",
            "ingrese un numero entero: 3\n",
            "ingrese un numero entero: -4\n",
            "La cantidad de numero positivos fue: 3 \n",
            "La cantidad de numero negativos fue: 2\n"
          ]
        }
      ]
    },
    {
      "cell_type": "markdown",
      "source": [
        "#Ejercicio 5\n",
        "Haz que el usuario introduzca numeros por teclado. Mientras el usuario no introduce el 0, pidele otro numero. Cuando el usuario introduzca el 0, muestrale la media aritmetica de los numeros que ha introducido."
      ],
      "metadata": {
        "id": "53WMhNftJCGA"
      }
    },
    {
      "cell_type": "code",
      "source": [
        "n = float(input(\"introduce un número: \"))\n",
        "sum = 0\n",
        "while n != 0:\n",
        "  sum += n\n",
        "  n = float(input(\"introduce un número: \"))\n",
        "else:\n",
        "  print(\"la suma total es\", sum)"
      ],
      "metadata": {
        "colab": {
          "base_uri": "https://localhost:8080/"
        },
        "id": "uU5af3_RJ-DX",
        "outputId": "35371018-70dd-4551-98df-c96ba9877170"
      },
      "execution_count": 24,
      "outputs": [
        {
          "output_type": "stream",
          "name": "stdout",
          "text": [
            "introduce un número: 5\n",
            "introduce un número: 3\n",
            "introduce un número: 2\n",
            "introduce un número: 4\n",
            "introduce un número: 0\n",
            "la suma total es 14.0\n"
          ]
        }
      ]
    },
    {
      "cell_type": "markdown",
      "source": [
        "#Ejercicio 6\n",
        "Haz que el usuario introduzca dos numeros enteros por teclado. El primero sera el extremo izquierdo del intervalo y, el segundo, el extremo derecho. Imprime todos los numeros que se encuentren entre los dos numeros introducidos por el usuario.(los extremos incluidos)."
      ],
      "metadata": {
        "id": "cL5ArsQaMOQs"
      }
    },
    {
      "cell_type": "code",
      "source": [
        ""
      ],
      "metadata": {
        "id": "SNfgVupINxA-"
      },
      "execution_count": null,
      "outputs": []
    }
  ]
}