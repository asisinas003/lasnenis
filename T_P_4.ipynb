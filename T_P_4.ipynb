{
  "nbformat": 4,
  "nbformat_minor": 0,
  "metadata": {
    "colab": {
      "name": "T.P 4.ipynb",
      "provenance": [],
      "authorship_tag": "ABX9TyNTZB0veq+pCHGvgkiXLaez",
      "include_colab_link": true
    },
    "kernelspec": {
      "name": "python3",
      "display_name": "Python 3"
    },
    "language_info": {
      "name": "python"
    }
  },
  "cells": [
    {
      "cell_type": "markdown",
      "metadata": {
        "id": "view-in-github",
        "colab_type": "text"
      },
      "source": [
        "<a href=\"https://colab.research.google.com/github/asisinas003/lasnenis/blob/main/T_P_4.ipynb\" target=\"_parent\"><img src=\"https://colab.research.google.com/assets/colab-badge.svg\" alt=\"Open In Colab\"/></a>"
      ]
    },
    {
      "cell_type": "markdown",
      "source": [
        "#Ejercicio 1\n",
        "Haz que un usuario introduzca un numeros entero por teclado. Mientras el usuario no introduzca el 0, muestra si el numero introducidoes par o impar."
      ],
      "metadata": {
        "id": "g1-KZau9f8m0"
      }
    },
    {
      "cell_type": "code",
      "source": [
        "n = int(input(\"por favor introduzca un numero entero: \"))\n",
        "\n",
        "while n !=0:\n",
        "  print(\"El numero {} es {} \" .format(n, \"par\" if n % 2 == 0 else \"impar\"))\n",
        "  n = int(input(\"por favor introduzca un numero entero: \"))\n",
        "\n",
        "  print(\"haz salido del bucle\")"
      ],
      "metadata": {
        "id": "9rGj-OOEgj7F",
        "outputId": "376a0e0f-0a57-42f4-9cec-5b6cd54c2935",
        "colab": {
          "base_uri": "https://localhost:8080/"
        }
      },
      "execution_count": 3,
      "outputs": [
        {
          "output_type": "stream",
          "name": "stdout",
          "text": [
            "por favor introduzca un numero entero: 4\n",
            "El numero 4 es par \n",
            "por favor introduzca un numero entero: 3\n",
            "haz salido del bucle\n",
            "El numero 3 es impar \n",
            "por favor introduzca un numero entero: 0\n",
            "haz salido del bucle\n"
          ]
        }
      ]
    },
    {
      "cell_type": "markdown",
      "source": [
        "#Ejercicio 2\n",
        "Haz que un usuario introduzca una palabra y una letra por teclado. Comprueba si la pallabra contiene la letra o no indicaselo al usuario por pantalla"
      ],
      "metadata": {
        "id": "0XiVDW4Dhkgr"
      }
    },
    {
      "cell_type": "code",
      "source": [
        "letter = input(\"introduzca una letra: \")\n",
        "word = input(\"introduzca una palabra: \")\n",
        "i=0\n",
        "found = False\n",
        "while i < len(word):\n",
        "  if word[i] == letter:\n",
        "    found = True \n",
        "    break\n",
        "  i+= 1\n",
        "print(\"la palabra {} {} contiene la letra {}\".format(word, \"si\" if found else \"no\", letter))\n",
        "\n",
        " "
      ],
      "metadata": {
        "id": "BCoUI5Tilpsy",
        "outputId": "98f13be6-c7d0-4d30-abfd-0705a912b0c7",
        "colab": {
          "base_uri": "https://localhost:8080/"
        }
      },
      "execution_count": 7,
      "outputs": [
        {
          "output_type": "stream",
          "name": "stdout",
          "text": [
            "introduzca una letra: c\n",
            "introduzca una palabra: cena\n",
            "la palabra cena si contiene la letra c\n"
          ]
        }
      ]
    },
    {
      "cell_type": "markdown",
      "source": [
        "#ejercicio 4\n",
        "Haz que el usuario introduzca numeros enteros por teclado. Mientras el usuario no introduzca el 0, calcula cuantos numeros positivos y cuantos negativos ha introducido y muestraselo al final"
      ],
      "metadata": {
        "id": "sBPpgkMziKo8"
      }
    },
    {
      "cell_type": "code",
      "source": [
        "n = int(input(\"ingrese la cantidad de datos que desea procesar: \"))\n",
        "\n",
        "if n > 0:\n",
        "\n",
        "    positivos = 0\n",
        "    negativos = 0\n",
        "    \n",
        "\n",
        "    for i in range(n):\n",
        "        dato = int(input(\"ingrese un numero entero: \"))\n",
        "\n",
        "        if dato > 0:\n",
        "           positivos += 1\n",
        "\n",
        "        else:\n",
        "            negativos += 1\n",
        "\n",
        "       \n",
        "    print(\"La cantidad de numero positivos fue:\",positivos,\"\\nLa cantidad de numero negativos fue:\",negativos)\n",
        "\n",
        "else:\n",
        "  print(\"El numero ingresado no es correcto. Intentelo nuevamente.\")\n",
        "\n"
      ],
      "metadata": {
        "colab": {
          "base_uri": "https://localhost:8080/"
        },
        "id": "0y-IAL_9i97Y",
        "outputId": "d4f64f6f-ce8a-4432-dea2-a28cf6ae7b2d"
      },
      "execution_count": null,
      "outputs": [
        {
          "output_type": "stream",
          "name": "stdout",
          "text": [
            "ingrese la cantidad de datos que desea procesar: 5\n",
            "ingrese un numero entero: 1\n",
            "ingrese un numero entero: 2\n",
            "ingrese un numero entero: -5\n",
            "ingrese un numero entero: 3\n",
            "ingrese un numero entero: -4\n",
            "La cantidad de numero positivos fue: 3 \n",
            "La cantidad de numero negativos fue: 2\n"
          ]
        }
      ]
    },
    {
      "cell_type": "markdown",
      "source": [
        "#Ejercicio 5\n",
        "Haz que el usuario introduzca numeros por teclado. Mientras el usuario no introduce el 0, pidele otro numero. Cuando el usuario introduzca el 0, muestrale la media aritmetica de los numeros que ha introducido."
      ],
      "metadata": {
        "id": "53WMhNftJCGA"
      }
    },
    {
      "cell_type": "code",
      "source": [
        "n = float(input(\"introduce un número: \"))\n",
        "sum = 0\n",
        "while n != 0:\n",
        "  sum += n\n",
        "  n = float(input(\"introduce un número: \"))\n",
        "else:\n",
        "  print(\"la suma total es\", sum)"
      ],
      "metadata": {
        "colab": {
          "base_uri": "https://localhost:8080/"
        },
        "id": "uU5af3_RJ-DX",
        "outputId": "35371018-70dd-4551-98df-c96ba9877170"
      },
      "execution_count": null,
      "outputs": [
        {
          "output_type": "stream",
          "name": "stdout",
          "text": [
            "introduce un número: 5\n",
            "introduce un número: 3\n",
            "introduce un número: 2\n",
            "introduce un número: 4\n",
            "introduce un número: 0\n",
            "la suma total es 14.0\n"
          ]
        }
      ]
    },
    {
      "cell_type": "markdown",
      "source": [
        "#Ejercicio 6\n",
        "Haz que el usuario introduzca dos numeros enteros por teclado. El primero sera el extremo izquierdo del intervalo y, el segundo, el extremo derecho. Imprime todos los numeros que se encuentren entre los dos numeros introducidos por el usuario.(los extremos incluidos)."
      ],
      "metadata": {
        "id": "cL5ArsQaMOQs"
      }
    },
    {
      "cell_type": "code",
      "source": [
        ""
      ],
      "metadata": {
        "id": "SNfgVupINxA-"
      },
      "execution_count": null,
      "outputs": []
    },
    {
      "cell_type": "markdown",
      "source": [
        "#Ejercicio 8\n",
        "Pidele al usuario cuantos numero vas a introducir. con un bucle for, solicitale esa cantidad de numeros y calcula su producto."
      ],
      "metadata": {
        "id": "e803WSTVr9xd"
      }
    },
    {
      "cell_type": "code",
      "source": [
        "c = int(input(\"Cantidad de numeros: \"))\n",
        "total=0\n",
        "for variable in range(c):\n",
        "  numero = int(input(\"numero: \"))\n",
        "  total+=numero\n",
        "print(\"total de la suma:\", total)\n"
      ],
      "metadata": {
        "id": "2qEkutSiuCx8",
        "outputId": "952a075f-a86d-452d-fd75-910287cbdafe",
        "colab": {
          "base_uri": "https://localhost:8080/"
        }
      },
      "execution_count": 8,
      "outputs": [
        {
          "output_type": "stream",
          "name": "stdout",
          "text": [
            "Cantidad de numeros: 5\n",
            "numero: 4\n",
            "numero: 3\n",
            "numero: 2\n",
            "numero: 1\n",
            "numero: 5\n",
            "total de la suma: 15\n"
          ]
        }
      ]
    },
    {
      "cell_type": "code",
      "source": [
        "n = int(input(\"por favor ingrese una altura para el triangulo: \"))\n",
        "for i in range(1,n+1): \n",
        "    for j in range(1,i+1):\n",
        "      print(j, end=\"\")\n",
        "    print(\"\") "
      ],
      "metadata": {
        "id": "NTVKbm-eyM2z",
        "outputId": "9c65857b-3a68-4aa3-bbfb-e5653126f983",
        "colab": {
          "base_uri": "https://localhost:8080/"
        }
      },
      "execution_count": 11,
      "outputs": [
        {
          "output_type": "stream",
          "name": "stdout",
          "text": [
            "por favor ingrese una altura para el triangulo: 7\n",
            "1\n",
            "12\n",
            "123\n",
            "1234\n",
            "12345\n",
            "123456\n",
            "1234567\n"
          ]
        }
      ]
    },
    {
      "cell_type": "code",
      "source": [
        ""
      ],
      "metadata": {
        "id": "LkZP4GGU0zgo"
      },
      "execution_count": null,
      "outputs": []
    }
  ]
}