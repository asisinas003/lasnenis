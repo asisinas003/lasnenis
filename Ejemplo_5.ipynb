{
  "nbformat": 4,
  "nbformat_minor": 0,
  "metadata": {
    "colab": {
      "name": "Ejemplo_5",
      "provenance": [],
      "authorship_tag": "ABX9TyNO9JSkEqe4B6rj5mt1KIkl",
      "include_colab_link": true
    },
    "kernelspec": {
      "name": "python3",
      "display_name": "Python 3"
    },
    "language_info": {
      "name": "python"
    }
  },
  "cells": [
    {
      "cell_type": "markdown",
      "metadata": {
        "id": "view-in-github",
        "colab_type": "text"
      },
      "source": [
        "<a href=\"https://colab.research.google.com/github/asisinas003/lasnenis/blob/main/Ejemplo_5.ipynb\" target=\"_parent\"><img src=\"https://colab.research.google.com/assets/colab-badge.svg\" alt=\"Open In Colab\"/></a>"
      ]
    },
    {
      "cell_type": "code",
      "execution_count": null,
      "metadata": {
        "id": "MdaMOKz1MMZ5"
      },
      "outputs": [],
      "source": [
        "#Ejercicio\n",
        "imaginemos las letras del abecedario ordenadas y dispuestas en circulo. Es decir,a la derecha de la A esta la B, luego la C, y asi sucesivamente hasta la Z. A la derecha de la Z, se encuentra de nuevo la letra A\n",
        "Vamos a hacer que el usuario introduzca un valor entero n, que se corespondera con la rotacion que llavara a una determinada letra n posiciones a su derecha. por ejemplo, si la rotacion es 4,entonces la A pasara a la E,....,la Y\n"
      ]
    }
  ]
}