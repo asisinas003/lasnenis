{
  "nbformat": 4,
  "nbformat_minor": 0,
  "metadata": {
    "colab": {
      "name": "TP.N1.ipynb",
      "provenance": [],
      "authorship_tag": "ABX9TyMVMY8pwmw0vpQ0H03yNrRP",
      "include_colab_link": true
    },
    "kernelspec": {
      "name": "python3",
      "display_name": "Python 3"
    },
    "language_info": {
      "name": "python"
    }
  },
  "cells": [
    {
      "cell_type": "markdown",
      "metadata": {
        "id": "view-in-github",
        "colab_type": "text"
      },
      "source": [
        "<a href=\"https://colab.research.google.com/github/asisinas003/lasnenis/blob/main/TP_N1.ipynb\" target=\"_parent\"><img src=\"https://colab.research.google.com/assets/colab-badge.svg\" alt=\"Open In Colab\"/></a>"
      ]
    },
    {
      "cell_type": "markdown",
      "source": [
        "#Ejercicio 1\n",
        "\n",
        "calcula la division entera de 45 entre 6\n",
        "\n",
        "\n"
      ],
      "metadata": {
        "id": "6hxI-uPZCaab"
      }
    },
    {
      "cell_type": "code",
      "source": [
        "45//6"
      ],
      "metadata": {
        "colab": {
          "base_uri": "https://localhost:8080/"
        },
        "id": "tYgHqbv2Gxru",
        "outputId": "b583a820-8dee-41cf-876a-389b27c181a6"
      },
      "execution_count": 1,
      "outputs": [
        {
          "output_type": "execute_result",
          "data": {
            "text/plain": [
              "7"
            ]
          },
          "metadata": {},
          "execution_count": 1
        }
      ]
    },
    {
      "cell_type": "markdown",
      "source": [
        "#Ejercicio 2\n",
        "\n",
        "calcula el resto de la division entera de 45 entre 6 "
      ],
      "metadata": {
        "id": "oE7sxSeyDNtu"
      }
    },
    {
      "cell_type": "code",
      "source": [
        "45%6"
      ],
      "metadata": {
        "colab": {
          "base_uri": "https://localhost:8080/"
        },
        "id": "AwpJFn5zHl7k",
        "outputId": "acbd944d-bb0f-4d43-b2ce-86a7c88686d5"
      },
      "execution_count": 5,
      "outputs": [
        {
          "output_type": "execute_result",
          "data": {
            "text/plain": [
              "3"
            ]
          },
          "metadata": {},
          "execution_count": 5
        }
      ]
    },
    {
      "cell_type": "markdown",
      "source": [
        "#Ejercicio 3\n",
        "\n",
        "Realiza la siguiente operacion en python,donde % indica la division entera: 10+20//7-2\n",
        "\n",
        "\n"
      ],
      "metadata": {
        "id": "VVRFfcjQDdq2"
      }
    },
    {
      "cell_type": "code",
      "source": [
        "20+20//7-2"
      ],
      "metadata": {
        "colab": {
          "base_uri": "https://localhost:8080/"
        },
        "id": "7VmF9ALYI1aP",
        "outputId": "110ce2c0-ef0d-4470-a018-a37a1bc3d6f1"
      },
      "execution_count": 4,
      "outputs": [
        {
          "output_type": "execute_result",
          "data": {
            "text/plain": [
              "20"
            ]
          },
          "metadata": {},
          "execution_count": 4
        }
      ]
    },
    {
      "cell_type": "markdown",
      "source": [
        "#Ejercicio 4\n",
        "\n",
        "Realiza la siguente operacion en python\n",
        "\n"
      ],
      "metadata": {
        "id": "RJbilD6aEGOl"
      }
    },
    {
      "cell_type": "code",
      "source": [
        "(9-((25+5-2)/(7*4)))/(2**3)"
      ],
      "metadata": {
        "colab": {
          "base_uri": "https://localhost:8080/"
        },
        "id": "eY9JJPR6JKzQ",
        "outputId": "53b74dc7-91e2-4c67-fbad-1589ca356a7f"
      },
      "execution_count": 3,
      "outputs": [
        {
          "output_type": "execute_result",
          "data": {
            "text/plain": [
              "1.0"
            ]
          },
          "metadata": {},
          "execution_count": 3
        }
      ]
    },
    {
      "cell_type": "markdown",
      "source": [
        "#Ejercicio 5\n",
        "\n",
        "Realiza la siguiente operacion en python\n",
        "\n"
      ],
      "metadata": {
        "id": "yEwnMVcxFPRn"
      }
    },
    {
      "cell_type": "code",
      "source": [
        "(2+2**3-2*(2-2**5)+2**2*2+2)/(2*(2*2-2**4)+2**2)"
      ],
      "metadata": {
        "colab": {
          "base_uri": "https://localhost:8080/"
        },
        "id": "_bHX6nYMJ2cV",
        "outputId": "d15ebf89-83c4-4e2b-838d-27234df7a2d9"
      },
      "execution_count": 2,
      "outputs": [
        {
          "output_type": "execute_result",
          "data": {
            "text/plain": [
              "-4.0"
            ]
          },
          "metadata": {},
          "execution_count": 2
        }
      ]
    },
    {
      "cell_type": "markdown",
      "source": [
        "#Ejercicio 6\n",
        "Realiza la siguiente operacion en python:\n",
        "6i-(4+i)*2"
      ],
      "metadata": {
        "id": "PZ1Gk_fYmB55"
      }
    },
    {
      "cell_type": "code",
      "source": [
        "6i-(4+i)*2"
      ],
      "metadata": {
        "colab": {
          "base_uri": "https://localhost:8080/",
          "height": 134
        },
        "id": "4lklsy9FnfXE",
        "outputId": "7cd3d6be-e5be-40c6-96cc-3ba49f6c4091"
      },
      "execution_count": 7,
      "outputs": [
        {
          "output_type": "error",
          "ename": "SyntaxError",
          "evalue": "ignored",
          "traceback": [
            "\u001b[0;36m  File \u001b[0;32m\"<ipython-input-7-f4d45ff05098>\"\u001b[0;36m, line \u001b[0;32m1\u001b[0m\n\u001b[0;31m    6i-(4+i)*2\u001b[0m\n\u001b[0m     ^\u001b[0m\n\u001b[0;31mSyntaxError\u001b[0m\u001b[0;31m:\u001b[0m invalid syntax\n"
          ]
        }
      ]
    },
    {
      "cell_type": "markdown",
      "source": [
        "#Ejercicio 6\n",
        "Realiza la siguiente operacion en python:\n",
        "6i-(4+i)*2"
      ],
      "metadata": {
        "id": "-8nRPvB-ngJn"
      }
    }
  ]
}