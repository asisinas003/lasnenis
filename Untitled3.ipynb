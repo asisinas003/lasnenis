{
  "nbformat": 4,
  "nbformat_minor": 0,
  "metadata": {
    "colab": {
      "name": "Untitled3.ipynb",
      "provenance": [],
      "authorship_tag": "ABX9TyNcytTPxp/gJ+BVlUT5QY+i",
      "include_colab_link": true
    },
    "kernelspec": {
      "name": "python3",
      "display_name": "Python 3"
    },
    "language_info": {
      "name": "python"
    }
  },
  "cells": [
    {
      "cell_type": "markdown",
      "metadata": {
        "id": "view-in-github",
        "colab_type": "text"
      },
      "source": [
        "<a href=\"https://colab.research.google.com/github/asisinas003/lasnenis/blob/main/Untitled3.ipynb\" target=\"_parent\"><img src=\"https://colab.research.google.com/assets/colab-badge.svg\" alt=\"Open In Colab\"/></a>"
      ]
    },
    {
      "cell_type": "markdown",
      "source": [
        "cuestionario tema- 1"
      ],
      "metadata": {
        "id": "2VRqtMdK-do5"
      }
    },
    {
      "cell_type": "code",
      "source": [
        ""
      ],
      "metadata": {
        "id": "9FWHcVHh-irs"
      },
      "execution_count": null,
      "outputs": []
    },
    {
      "cell_type": "markdown",
      "source": [
        "Pregunta 1: cual es las siguientes afirmaciones es la correcta? Los nombres de las variables en python.\n",
        "\n",
        "1. pueden empezar y/o contener caracteres especiales.\n",
        "\n",
        "2. no pueden empezar por mayuscula\n",
        "\n",
        "3. pueden contener espacios.\n",
        "\n",
        "4. no pueden ser llamadas igual que las palabras claves reservadas en python"
      ],
      "metadata": {
        "id": "kjmjo-oS-j-f"
      }
    },
    {
      "cell_type": "markdown",
      "source": [
        "4"
      ],
      "metadata": {
        "id": "dIwqqkcMHkki"
      }
    },
    {
      "cell_type": "code",
      "source": [
        ""
      ],
      "metadata": {
        "id": "D0CIVI9mAAMK"
      },
      "execution_count": null,
      "outputs": []
    },
    {
      "cell_type": "markdown",
      "source": [
        "Pregunta 2: si a una variable a la que llamamos x le quiero asignar el valor 5, la forma correcta de hacerlo es:\n",
        "\n",
        "1.5= x\n",
        "\n",
        "2x==5\n",
        "\n",
        "3.x -5\n",
        "\n",
        "4.x->5\n"
      ],
      "metadata": {
        "id": "L7L5WuAbALjP"
      }
    },
    {
      "cell_type": "code",
      "source": [
        "3"
      ],
      "metadata": {
        "colab": {
          "base_uri": "https://localhost:8080/"
        },
        "id": "wOc0Qg-FIICB",
        "outputId": "ca6037fc-9bda-4c51-a7e7-b7d700b3db6f"
      },
      "execution_count": 4,
      "outputs": [
        {
          "output_type": "execute_result",
          "data": {
            "text/plain": [
              "3"
            ]
          },
          "metadata": {},
          "execution_count": 4
        }
      ]
    },
    {
      "cell_type": "code",
      "source": [
        ""
      ],
      "metadata": {
        "id": "mBTc3Dx8A4XT"
      },
      "execution_count": null,
      "outputs": []
    },
    {
      "cell_type": "markdown",
      "source": [
        "pregunta 3:  cual es la forma correcta de asignar a la variable age el valor 46 y a la variable name el nombre juan pablo?\n",
        "\n",
        "1.age,juan pablo= 46,name\n",
        "\n",
        "2.30, juan pablo = age, name\n",
        "\n",
        "3.age,name=46;\"juan pablo\"\n",
        "\n",
        "4.age name =46,\"juan pablo\""
      ],
      "metadata": {
        "id": "G6FO4PFxA5QY"
      }
    },
    {
      "cell_type": "code",
      "source": [
        "4"
      ],
      "metadata": {
        "colab": {
          "base_uri": "https://localhost:8080/"
        },
        "id": "dMYMEjs_IxDJ",
        "outputId": "3cc101a6-6d32-407f-d046-8e691dd34c84"
      },
      "execution_count": 5,
      "outputs": [
        {
          "output_type": "execute_result",
          "data": {
            "text/plain": [
              "4"
            ]
          },
          "metadata": {},
          "execution_count": 5
        }
      ]
    },
    {
      "cell_type": "code",
      "source": [
        ""
      ],
      "metadata": {
        "id": "aS9vzH_ACFNr"
      },
      "execution_count": null,
      "outputs": []
    },
    {
      "cell_type": "markdown",
      "source": [
        ""
      ],
      "metadata": {
        "id": "Dh5xXYmXCF-V"
      }
    },
    {
      "cell_type": "markdown",
      "source": [
        "pregunta 4: sabiendo que x - 1 , si queremos guardar en la variable x el valor actual mas 5 unidades , de que forma lo hariamos ?\n",
        "\n",
        "1-x=+5\n",
        "\n",
        "2 x+=5\n",
        "\n",
        "2 x+5=x\n",
        "\n"
      ],
      "metadata": {
        "id": "p5nK2BvgCGGm"
      }
    },
    {
      "cell_type": "code",
      "source": [
        ""
      ],
      "metadata": {
        "id": "cw2uaXuKJAl9"
      },
      "execution_count": null,
      "outputs": []
    },
    {
      "cell_type": "code",
      "source": [
        "2\n"
      ],
      "metadata": {
        "colab": {
          "base_uri": "https://localhost:8080/"
        },
        "id": "f7Z7KumTJQt1",
        "outputId": "ac8756ca-b21c-400d-bf01-9c3a4bd553fc"
      },
      "execution_count": 6,
      "outputs": [
        {
          "output_type": "execute_result",
          "data": {
            "text/plain": [
              "2"
            ]
          },
          "metadata": {},
          "execution_count": 6
        }
      ]
    },
    {
      "cell_type": "code",
      "source": [
        ""
      ],
      "metadata": {
        "id": "us5Pk6QBDBY0"
      },
      "execution_count": 6,
      "outputs": []
    },
    {
      "cell_type": "markdown",
      "source": [
        "pregunta 5: Que resultado nos devuelve el siguiente codigo?\n",
        "\n",
        "# vamos a definir la variable x y  asignarlo el valor 20\n",
        "x = 20 # aqui esta nuestra variable x\n",
        "# ahora vamos a restarle 2 y dividir por la mitad\n",
        "y = x -2\n",
        "\n",
        "x /= 2\n",
        "\n",
        "y\n",
        "\n",
        "\n",
        "1.20\n",
        "\n",
        "2.9\n",
        "\n",
        "3.18\n",
        "\n",
        "4.10"
      ],
      "metadata": {
        "id": "IHC0CzQjDB7Q"
      }
    },
    {
      "cell_type": "code",
      "source": [
        ""
      ],
      "metadata": {
        "id": "Wo6qy2D2L4-A"
      },
      "execution_count": null,
      "outputs": []
    },
    {
      "cell_type": "code",
      "source": [
        "3"
      ],
      "metadata": {
        "colab": {
          "base_uri": "https://localhost:8080/"
        },
        "id": "3Z_aFq6_MB5b",
        "outputId": "992aca62-f255-43db-b283-a726b98cf162"
      },
      "execution_count": 8,
      "outputs": [
        {
          "output_type": "execute_result",
          "data": {
            "text/plain": [
              "3"
            ]
          },
          "metadata": {},
          "execution_count": 8
        }
      ]
    },
    {
      "cell_type": "code",
      "source": [
        ""
      ],
      "metadata": {
        "id": "f3tzgtbcES3O"
      },
      "execution_count": null,
      "outputs": []
    },
    {
      "cell_type": "code",
      "source": [
        ""
      ],
      "metadata": {
        "id": "qPSRW1beLDwe"
      },
      "execution_count": null,
      "outputs": []
    },
    {
      "cell_type": "markdown",
      "source": [
        "pregunta 6: Que hace exactamente la siguiente linea de codigo \n",
        "\n",
        "import math as mates\n",
        "\n",
        "1. carga el modulo math solamente\n",
        "2. carga todas las funciones y  variables del modulo math a las cuales podremos acceder sin necesidad de indicar el modulo al que pertenecen\n",
        "3. carga el modulo <code>math</code>, pero accedemos a el con el nombre<code> mates</code> y la sintaxis para acceder  a las funciones o variables es <<code>mates. funcion()</code> o <<code>mates. variables</code>.</p>\n",
        "4. <p> carga la funcion <code>mates</code> del modulo <code>math<code> math</code></p>"
      ],
      "metadata": {
        "id": "5Nz7dNXBEXlQ"
      }
    },
    {
      "cell_type": "code",
      "source": [
        "3"
      ],
      "metadata": {
        "colab": {
          "base_uri": "https://localhost:8080/"
        },
        "id": "r5wS3jOfLApC",
        "outputId": "d420cf14-dbd7-4997-8c89-f88166931d99"
      },
      "execution_count": 7,
      "outputs": [
        {
          "output_type": "execute_result",
          "data": {
            "text/plain": [
              "3"
            ]
          },
          "metadata": {},
          "execution_count": 7
        }
      ]
    },
    {
      "cell_type": "code",
      "source": [
        ""
      ],
      "metadata": {
        "id": "mAKBdfjLHVqU"
      },
      "execution_count": null,
      "outputs": []
    }
  ]
}