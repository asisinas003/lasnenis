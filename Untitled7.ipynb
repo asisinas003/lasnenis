{
  "nbformat": 4,
  "nbformat_minor": 0,
  "metadata": {
    "colab": {
      "name": "Untitled7.ipynb",
      "provenance": [],
      "authorship_tag": "ABX9TyPbGAWnIZRFWzAnjsj7ZC7K",
      "include_colab_link": true
    },
    "kernelspec": {
      "name": "python3",
      "display_name": "Python 3"
    },
    "language_info": {
      "name": "python"
    }
  },
  "cells": [
    {
      "cell_type": "markdown",
      "metadata": {
        "id": "view-in-github",
        "colab_type": "text"
      },
      "source": [
        "<a href=\"https://colab.research.google.com/github/asisinas003/lasnenis/blob/main/Untitled7.ipynb\" target=\"_parent\"><img src=\"https://colab.research.google.com/assets/colab-badge.svg\" alt=\"Open In Colab\"/></a>"
      ]
    },
    {
      "cell_type": "code",
      "execution_count": null,
      "metadata": {
        "id": "idnYTpOzCIBc"
      },
      "outputs": [],
      "source": [
        ""
      ]
    },
    {
      "cell_type": "markdown",
      "source": [
        "#Ejercicio 1\n",
        "\n",
        "calcula la division entera de 45 entre 6\n",
        "\n",
        "\n"
      ],
      "metadata": {
        "id": "6hxI-uPZCaab"
      }
    },
    {
      "cell_type": "code",
      "source": [
        "45//6"
      ],
      "metadata": {
        "colab": {
          "base_uri": "https://localhost:8080/"
        },
        "id": "tYgHqbv2Gxru",
        "outputId": "af52f70b-3864-4e91-9aad-64368066faa4"
      },
      "execution_count": 1,
      "outputs": [
        {
          "output_type": "execute_result",
          "data": {
            "text/plain": [
              "7"
            ]
          },
          "metadata": {},
          "execution_count": 1
        }
      ]
    },
    {
      "cell_type": "code",
      "source": [
        ""
      ],
      "metadata": {
        "id": "fuSLbPc5GprY"
      },
      "execution_count": null,
      "outputs": []
    },
    {
      "cell_type": "markdown",
      "source": [
        "#Ejercicio 2\n",
        "\n",
        "calcula el resto de la division entera de 45 entre 6 "
      ],
      "metadata": {
        "id": "oE7sxSeyDNtu"
      }
    },
    {
      "cell_type": "code",
      "source": [
        ""
      ],
      "metadata": {
        "id": "fvtY2RACDcqH"
      },
      "execution_count": null,
      "outputs": []
    },
    {
      "cell_type": "code",
      "source": [
        "45%6"
      ],
      "metadata": {
        "colab": {
          "base_uri": "https://localhost:8080/"
        },
        "id": "AwpJFn5zHl7k",
        "outputId": "381e5f2f-b9da-45a8-c6f9-beb5429e1c78"
      },
      "execution_count": 2,
      "outputs": [
        {
          "output_type": "execute_result",
          "data": {
            "text/plain": [
              "3"
            ]
          },
          "metadata": {},
          "execution_count": 2
        }
      ]
    },
    {
      "cell_type": "markdown",
      "source": [
        "#Ejercicio 3\n",
        "\n",
        "Realiza la siguiente operacion en python,donde % indica la division entera: 10+20//7-2\n",
        "\n",
        "\n"
      ],
      "metadata": {
        "id": "VVRFfcjQDdq2"
      }
    },
    {
      "cell_type": "code",
      "source": [
        ""
      ],
      "metadata": {
        "id": "GizjazhPEFD4"
      },
      "execution_count": null,
      "outputs": []
    },
    {
      "cell_type": "code",
      "source": [
        "20+20//7-2"
      ],
      "metadata": {
        "colab": {
          "base_uri": "https://localhost:8080/"
        },
        "id": "7VmF9ALYI1aP",
        "outputId": "e4346977-2d37-4784-91c8-62a5cc7290f8"
      },
      "execution_count": 4,
      "outputs": [
        {
          "output_type": "execute_result",
          "data": {
            "text/plain": [
              "20"
            ]
          },
          "metadata": {},
          "execution_count": 4
        }
      ]
    },
    {
      "cell_type": "code",
      "source": [
        ""
      ],
      "metadata": {
        "id": "Zvd-UBEPICIy"
      },
      "execution_count": null,
      "outputs": []
    },
    {
      "cell_type": "markdown",
      "source": [
        ""
      ],
      "metadata": {
        "id": "Iuj4nPbtFNrx"
      }
    },
    {
      "cell_type": "markdown",
      "source": [
        "#Ejercicio 4\n",
        "\n",
        "Realiza la siguente operacion en python\n",
        "\n"
      ],
      "metadata": {
        "id": "RJbilD6aEGOl"
      }
    },
    {
      "cell_type": "code",
      "source": [
        "(9-((25+5-2)/(7*4)))/(2**3)"
      ],
      "metadata": {
        "colab": {
          "base_uri": "https://localhost:8080/"
        },
        "id": "eY9JJPR6JKzQ",
        "outputId": "7a5a986d-9156-4315-81d4-ee4e49f82f80"
      },
      "execution_count": 6,
      "outputs": [
        {
          "output_type": "execute_result",
          "data": {
            "text/plain": [
              "1.0"
            ]
          },
          "metadata": {},
          "execution_count": 6
        }
      ]
    },
    {
      "cell_type": "markdown",
      "source": [
        "#Ejercicio 5\n",
        "\n",
        "Realiza la siguiente operacion en python\n",
        "\n"
      ],
      "metadata": {
        "id": "yEwnMVcxFPRn"
      }
    },
    {
      "cell_type": "code",
      "source": [
        ""
      ],
      "metadata": {
        "id": "v1DsPi-2JwuL"
      },
      "execution_count": null,
      "outputs": []
    },
    {
      "cell_type": "code",
      "source": [
        "(2+2**3-2*(2-2**5)+2**2*2+2)/(2*(2*2-2**4)+2**2)"
      ],
      "metadata": {
        "colab": {
          "base_uri": "https://localhost:8080/"
        },
        "id": "_bHX6nYMJ2cV",
        "outputId": "a0721444-7712-4fbe-ae90-14a532344671"
      },
      "execution_count": 5,
      "outputs": [
        {
          "output_type": "execute_result",
          "data": {
            "text/plain": [
              "-4.0"
            ]
          },
          "metadata": {},
          "execution_count": 5
        }
      ]
    },
    {
      "cell_type": "code",
      "source": [
        ""
      ],
      "metadata": {
        "id": "D7rtsMpzFp-T"
      },
      "execution_count": null,
      "outputs": []
    }
  ]
}