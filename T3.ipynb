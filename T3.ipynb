{
  "nbformat": 4,
  "nbformat_minor": 0,
  "metadata": {
    "colab": {
      "name": "T3",
      "provenance": [],
      "collapsed_sections": [],
      "include_colab_link": true
    },
    "kernelspec": {
      "name": "python3",
      "display_name": "Python 3"
    },
    "language_info": {
      "name": "python"
    }
  },
  "cells": [
    {
      "cell_type": "markdown",
      "metadata": {
        "id": "view-in-github",
        "colab_type": "text"
      },
      "source": [
        "<a href=\"https://colab.research.google.com/github/asisinas003/lasnenis/blob/main/T3.ipynb\" target=\"_parent\"><img src=\"https://colab.research.google.com/assets/colab-badge.svg\" alt=\"Open In Colab\"/></a>"
      ]
    },
    {
      "cell_type": "markdown",
      "source": [
        ""
      ],
      "metadata": {
        "id": "pLkijV0cbL-m"
      }
    },
    {
      "cell_type": "markdown",
      "source": [
        "#Ejercicio 1\n",
        "Haz que un usuario indroduzca un numero real y evalua si dicho numero es positivo, negativo o cero. Devuelve por la pantalla el resultadoen cada caso."
      ],
      "metadata": {
        "id": "Y_QMwDhFbSxG"
      }
    },
    {
      "cell_type": "code",
      "source": [
        "num = float (input(\"ingrese un numero real: \"))\n",
        "\n",
        "if num > 0:\n",
        "  print(\"El numero ingresado es positivo\")\n",
        "elif num < 0:\n",
        "  print(\"El numero ingresado es negativo\")\n",
        "else: \n",
        "  print(\"El numero ingresado es 0\")"
      ],
      "metadata": {
        "colab": {
          "base_uri": "https://localhost:8080/"
        },
        "id": "HTsQLHDgQH5V",
        "outputId": "199e0d1f-9d28-4fe0-82d2-36029b0b0c67"
      },
      "execution_count": 13,
      "outputs": [
        {
          "output_type": "stream",
          "name": "stdout",
          "text": [
            "ingrese un numero real: 6.6\n",
            "El numero ingresado es positivo\n"
          ]
        }
      ]
    },
    {
      "cell_type": "code",
      "source": [
        "num=input(\"hola\")"
      ],
      "metadata": {
        "id": "KIAPbPBSVOCQ",
        "outputId": "9846b80c-1d59-491a-f099-2d550e46d0ed",
        "colab": {
          "base_uri": "https://localhost:8080/"
        }
      },
      "execution_count": 5,
      "outputs": [
        {
          "name": "stdout",
          "output_type": "stream",
          "text": [
            "hola5\n"
          ]
        }
      ]
    },
    {
      "cell_type": "code",
      "source": [
        "type(num)"
      ],
      "metadata": {
        "id": "20OWtI84Vdar",
        "outputId": "6c931944-40c2-406e-c53c-f7cff695adc9",
        "colab": {
          "base_uri": "https://localhost:8080/"
        }
      },
      "execution_count": 6,
      "outputs": [
        {
          "output_type": "execute_result",
          "data": {
            "text/plain": [
              "str"
            ]
          },
          "metadata": {},
          "execution_count": 6
        }
      ]
    },
    {
      "cell_type": "markdown",
      "source": [
        "#Ejercicio 2\n",
        "Haz que un usuario indroduzca su nombre y evalua con operadores if y else si dicho nombre tiene una longitud mayor a 10 caracteres o no. Devuelve por la pantalla el resultado en cada caso."
      ],
      "metadata": {
        "id": "mRwmyqtscZPK"
      }
    },
    {
      "cell_type": "markdown",
      "source": [
        ""
      ],
      "metadata": {
        "id": "yFN1k_6jbKGO"
      }
    },
    {
      "cell_type": "code",
      "source": [
        "nombre = input(\"¿cual es tu nombre?\")\n",
        "if (len(nombre)>10):\n",
        "  print(\"su nombre tiene una longitud de 10 caracteres\")\n",
        "else:\n",
        "  print(\"su nombre no tiene una longitu de 10 caracteres\")\n"
      ],
      "metadata": {
        "colab": {
          "base_uri": "https://localhost:8080/"
        },
        "id": "4vtTMwv5dUB9",
        "outputId": "7c90c921-48da-4641-d161-c7757bff1e7d"
      },
      "execution_count": null,
      "outputs": [
        {
          "output_type": "stream",
          "name": "stdout",
          "text": [
            "¿cual es tu nombre?sandra\n",
            "su nombre no tiene una longitu de 10 caracteres\n"
          ]
        }
      ]
    },
    {
      "cell_type": "markdown",
      "source": [
        "#Ejercicio 3\n",
        "Realiza el ejercicio anterior con el uso del operador ternario."
      ],
      "metadata": {
        "id": "86SB225XlGjL"
      }
    },
    {
      "cell_type": "code",
      "source": [
        "nombre = 10\n",
        "texto_m =(\"su nombre tiene una longitud de 10 caracteres \")\n",
        "texto_me =(\"su nombre no tiene una longitud de 10 caracteres\")\n",
        "print(texto_m) if age <= 10 else print(texto_m)"
      ],
      "metadata": {
        "colab": {
          "base_uri": "https://localhost:8080/",
          "height": 202
        },
        "id": "FDUDxFDqlyTL",
        "outputId": "c62ce84d-6097-487d-fecd-1a52909837b7"
      },
      "execution_count": 18,
      "outputs": [
        {
          "output_type": "error",
          "ename": "NameError",
          "evalue": "ignored",
          "traceback": [
            "\u001b[0;31m---------------------------------------------------------------------------\u001b[0m",
            "\u001b[0;31mNameError\u001b[0m                                 Traceback (most recent call last)",
            "\u001b[0;32m<ipython-input-18-19cbbdad58c5>\u001b[0m in \u001b[0;36m<module>\u001b[0;34m()\u001b[0m\n\u001b[1;32m      2\u001b[0m \u001b[0mtexto_m\u001b[0m \u001b[0;34m=\u001b[0m\u001b[0;34m(\u001b[0m\u001b[0;34m\"su nombre tiene una longitud de 10 caracteres \"\u001b[0m\u001b[0;34m)\u001b[0m\u001b[0;34m\u001b[0m\u001b[0;34m\u001b[0m\u001b[0m\n\u001b[1;32m      3\u001b[0m \u001b[0mtexto_me\u001b[0m \u001b[0;34m=\u001b[0m\u001b[0;34m(\u001b[0m\u001b[0;34m\"su nombre no tiene una longitud de 10 caracteres\"\u001b[0m\u001b[0;34m)\u001b[0m\u001b[0;34m\u001b[0m\u001b[0;34m\u001b[0m\u001b[0m\n\u001b[0;32m----> 4\u001b[0;31m \u001b[0mprint\u001b[0m\u001b[0;34m(\u001b[0m\u001b[0mtexto_m\u001b[0m\u001b[0;34m)\u001b[0m \u001b[0;32mif\u001b[0m \u001b[0mage\u001b[0m \u001b[0;34m<=\u001b[0m \u001b[0;36m10\u001b[0m \u001b[0;32melse\u001b[0m \u001b[0mprint\u001b[0m\u001b[0;34m(\u001b[0m\u001b[0mtexto_m\u001b[0m\u001b[0;34m)\u001b[0m\u001b[0;34m\u001b[0m\u001b[0;34m\u001b[0m\u001b[0m\n\u001b[0m",
            "\u001b[0;31mNameError\u001b[0m: name 'age' is not defined"
          ]
        }
      ]
    },
    {
      "cell_type": "markdown",
      "source": [
        "#Ejercicios 4\n",
        "Haz que un usuario indroduzca dos numeros positivos. comprueba si el primer numero introducido por el usuario es mayor o igual que el segundo numero introducidopor el usuario. Devuelve por pantalla el resultado en cada caso.\n",
        "PISTA: Asegurate de hacer uso de la funcion int() donde pertoque.\n"
      ],
      "metadata": {
        "id": "XskMOIK5x9rG"
      }
    },
    {
      "cell_type": "code",
      "source": [
        "a = int(input(\"ingresa un numero \"))\n",
        "b = int(input(\"ingrese otro numero \"))\n",
        "if a == b:\n",
        "  print(\"los numeros son iguales\")\n",
        "\n"
      ],
      "metadata": {
        "id": "6fIjQ46P0Spo",
        "outputId": "c5805406-6285-48e6-8939-82cfec0bf86f",
        "colab": {
          "base_uri": "https://localhost:8080/"
        }
      },
      "execution_count": 1,
      "outputs": [
        {
          "output_type": "stream",
          "name": "stdout",
          "text": [
            "ingresa un numero 5\n",
            "ingrese otro numero 5\n",
            "los numeros son iguales\n"
          ]
        }
      ]
    },
    {
      "cell_type": "code",
      "source": [
        ""
      ],
      "metadata": {
        "id": "w1N1dgetNQuK"
      },
      "execution_count": null,
      "outputs": []
    },
    {
      "cell_type": "markdown",
      "source": [
        "#Ejercicio 5\n",
        "Haz que un usuario indroduzca dos numero enteres positivo. Suponiendo que el numero indroducido por el usuario es mayor o igual al sengundo numero indroducidopor el usuario, comprueba que la division del primer numero entre el segundo numero es exacta \n"
      ],
      "metadata": {
        "id": "3zaFH-rFMMw5"
      }
    },
    {
      "cell_type": "code",
      "source": [
        ""
      ],
      "metadata": {
        "id": "ACFIAqPVYl62"
      },
      "execution_count": null,
      "outputs": []
    },
    {
      "cell_type": "markdown",
      "source": [
        "#Ejercicio 7\n",
        "Haz que un usuario indroduzca dos numero enteres positivos. Comprueba si el mayor es multiplo del menor."
      ],
      "metadata": {
        "id": "8ZUmW-hsZovM"
      }
    },
    {
      "cell_type": "code",
      "source": [
        "a = int(input(\"ingresar el primer numero \"))\n",
        "b = int(input(\"ingresar el segundo numero \"))\n",
        "if a == b:\n",
        "  print(\"el primer numero es mutiplo\")\n",
        "else:\n",
        "  print(\"el primer no es multiplo del segundo\")\n"
      ],
      "metadata": {
        "id": "QDbg_cQRapXR",
        "outputId": "1e14ac47-50c5-449f-fdad-3f5532350df5",
        "colab": {
          "base_uri": "https://localhost:8080/"
        }
      },
      "execution_count": 16,
      "outputs": [
        {
          "output_type": "stream",
          "name": "stdout",
          "text": [
            "ingresar el primer numero 5\n",
            "ingresar el segundo numero 4\n",
            "el primer no es multiplo del segundo\n"
          ]
        }
      ]
    },
    {
      "cell_type": "markdown",
      "source": [
        "#Ejercicio 8\n",
        "Haz que un usuario indroduzca una palabra y comprueba si dicha palabra empieza por mayuscula .\n"
      ],
      "metadata": {
        "id": "uApf0klbenLk"
      }
    },
    {
      "cell_type": "code",
      "source": [
        ""
      ],
      "metadata": {
        "id": "5LDfmZFafRdS"
      },
      "execution_count": null,
      "outputs": []
    },
    {
      "cell_type": "markdown",
      "source": [
        "#Ejercicio 9\n",
        "Haz que un usuario introduzca una letra y comprueba si se trata de un vocal"
      ],
      "metadata": {
        "id": "8W055I1pjVrE"
      }
    },
    {
      "cell_type": "code",
      "source": [
        "es_vocal=input(\"introduce una letra por favor: \")\n",
        "\n",
        "if es_vocal == \"a\":\n",
        "  print(\"es vocal\")\n",
        "else:\n",
        "  print(\"no es vocal\")\n",
        "  "
      ],
      "metadata": {
        "id": "8fj1eOB8j-gZ",
        "outputId": "e8cbe35f-f237-4b01-ded7-5cddc539e36d",
        "colab": {
          "base_uri": "https://localhost:8080/"
        }
      },
      "execution_count": 25,
      "outputs": [
        {
          "output_type": "stream",
          "name": "stdout",
          "text": [
            "introduce una letra por favor: a\n",
            "es vocal\n"
          ]
        }
      ]
    },
    {
      "cell_type": "code",
      "source": [
        ""
      ],
      "metadata": {
        "id": "r4ET8KAUoy0s"
      },
      "execution_count": null,
      "outputs": []
    }
  ]
}